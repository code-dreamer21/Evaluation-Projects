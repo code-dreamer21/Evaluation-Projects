{
  "nbformat": 4,
  "nbformat_minor": 0,
  "metadata": {
    "colab": {
      "name": "Cat_and_Dogs.ipynb",
      "provenance": [],
      "toc_visible": true,
      "mount_file_id": "1RXC8t1tLyhSLBXfle34gdDdM_w6q_gLH",
      "authorship_tag": "ABX9TyPKmqQX5ZIuFPKhclO+KBkY",
      "include_colab_link": true
    },
    "kernelspec": {
      "name": "python3",
      "display_name": "Python 3"
    },
    "accelerator": "GPU"
  },
  "cells": [
    {
      "cell_type": "markdown",
      "metadata": {
        "id": "view-in-github",
        "colab_type": "text"
      },
      "source": [
        "<a href=\"https://colab.research.google.com/github/code-dreamer21/Evaluation-Projects/blob/master/Cat_and_Dogs.ipynb\" target=\"_parent\"><img src=\"https://colab.research.google.com/assets/colab-badge.svg\" alt=\"Open In Colab\"/></a>"
      ]
    },
    {
      "cell_type": "markdown",
      "metadata": {
        "id": "XmVCqqlu3pIa"
      },
      "source": [
        "Cat_and_dog CNN model"
      ]
    },
    {
      "cell_type": "code",
      "metadata": {
        "id": "JWP3oXNMb35s",
        "colab": {
          "base_uri": "https://localhost:8080/",
          "height": 187
        },
        "outputId": "569582af-bdb2-40b9-9790-339ad780dbf3"
      },
      "source": [
        "import os\n",
        "os.environ['KAGGLE_USERNAME'] = \"sristidasgupta\"\n",
        "os.environ['KAGGLE_KEY'] = \"9cb1a1b4ba5078197ac527e1cad0ccd7\"\n",
        "!kaggle competitions download -c dogs-vs-cats"
      ],
      "execution_count": null,
      "outputs": [
        {
          "output_type": "stream",
          "text": [
            "Warning: Looks like you're using an outdated API Version, please consider updating (server 1.5.6 / client 1.5.4)\n",
            "Downloading sampleSubmission.csv to /content\n",
            "  0% 0.00/86.8k [00:00<?, ?B/s]\n",
            "100% 86.8k/86.8k [00:00<00:00, 32.6MB/s]\n",
            "Downloading train.zip to /content\n",
            " 96% 521M/543M [00:23<00:01, 16.9MB/s]\n",
            "100% 543M/543M [00:23<00:00, 24.1MB/s]\n",
            "Downloading test1.zip to /content\n",
            " 98% 265M/271M [00:10<00:00, 48.8MB/s]\n",
            "100% 271M/271M [00:10<00:00, 28.3MB/s]\n"
          ],
          "name": "stdout"
        }
      ]
    },
    {
      "cell_type": "code",
      "metadata": {
        "id": "cQcdibsigKw0",
        "colab": {
          "base_uri": "https://localhost:8080/",
          "height": 34
        },
        "outputId": "fc1e8004-63b7-418b-a725-efbd1bbf74eb"
      },
      "source": [
        "#upload data\n",
        "from zipfile import ZipFile\n",
        "\n",
        "file_name = \"/content/train.zip\" \n",
        "\n",
        "with ZipFile(file_name, 'r') as zip:\n",
        "  zip.extractall()\n",
        "  print('done')"
      ],
      "execution_count": null,
      "outputs": [
        {
          "output_type": "stream",
          "text": [
            "done\n"
          ],
          "name": "stdout"
        }
      ]
    },
    {
      "cell_type": "code",
      "metadata": {
        "id": "ke1VpWLPidjP",
        "colab": {
          "base_uri": "https://localhost:8080/",
          "height": 34
        },
        "outputId": "693f1bd6-1569-4ba1-b187-b3f11d56ebf0"
      },
      "source": [
        "data_dir_list =os.listdir('/content/train')\n",
        "\n",
        "path, dirs, files = next(os.walk(\"/content/train\"))\n",
        "file_count = len(files)\n",
        "print(file_count)\n",
        "\n",
        "original_dataset_dir = '/content/train'\n",
        "base_dir = '/content/cats_and_dogs_small'\n",
        "os.mkdir(base_dir)\n"
      ],
      "execution_count": null,
      "outputs": [
        {
          "output_type": "stream",
          "text": [
            "25000\n"
          ],
          "name": "stdout"
        }
      ]
    },
    {
      "cell_type": "code",
      "metadata": {
        "id": "KL9z7ZGgjqHd"
      },
      "source": [
        "train_dir = os.path.join(base_dir, 'train')\n",
        "os.mkdir(train_dir)\n",
        "\n",
        "validation_dir = os.path.join(base_dir, 'validation')\n",
        "os.mkdir(validation_dir)\n",
        "\n",
        "test_dir = os.path.join(base_dir, 'test')\n",
        "os.mkdir(test_dir)\n",
        "\n",
        "train_cats_dir = os.path.join(train_dir, 'cats')\n",
        "os.mkdir(train_cats_dir)\n",
        "\n",
        "train_dogs_dir = os.path.join(train_dir, 'dogs')\n",
        "os.mkdir(train_dogs_dir)\n",
        "\n",
        "validation_cats_dir = os.path.join(validation_dir, 'cats')\n",
        "os.mkdir(validation_cats_dir)\n",
        "\n",
        "validation_dogs_dir = os.path.join(validation_dir, 'dogs')\n",
        "os.mkdir(validation_dogs_dir)\n",
        "\n",
        "test_cats_dir = os.path.join(test_dir, 'cats')\n",
        "os.mkdir(test_cats_dir)\n",
        "\n",
        "test_dogs_dir = os.path.join(test_dir, 'dogs')\n",
        "os.mkdir(test_dogs_dir)"
      ],
      "execution_count": null,
      "outputs": []
    },
    {
      "cell_type": "code",
      "metadata": {
        "id": "hsBEr1c9lzM3"
      },
      "source": [
        "import shutil\n",
        "fnames = ['cat.{}.jpg'.format(i) for i in range(1000)]\n",
        "for fname in fnames:\n",
        "  src = os.path.join(original_dataset_dir, fname)\n",
        "  dst = os.path.join(train_cats_dir, fname)\n",
        "  shutil.copyfile(src, dst)\n",
        "\n",
        "\n",
        "fnames = ['cat.{}.jpg'.format(i) for i in range(1000, 1500)]\n",
        "for fname in fnames:\n",
        "  src = os.path.join(original_dataset_dir, fname)\n",
        "  dst = os.path.join(validation_cats_dir, fname)\n",
        "  shutil.copyfile(src, dst)\n",
        "\n",
        "\n",
        "fnames = ['cat.{}.jpg'.format(i) for i in range(1500, 2000)]\n",
        "for fname in fnames:\n",
        "  src = os.path.join(original_dataset_dir, fname)\n",
        "  dst = os.path.join(test_cats_dir, fname)\n",
        "  shutil.copyfile(src, dst)\n",
        "\n",
        "\n",
        "fnames = ['dog.{}.jpg'.format(i) for i in range(1000)]\n",
        "for fname in fnames:\n",
        "  src = os.path.join(original_dataset_dir, fname)\n",
        "  dst = os.path.join(train_dogs_dir, fname)\n",
        "  shutil.copyfile(src, dst)\n",
        "\n",
        "\n",
        "fnames = ['dog.{}.jpg'.format(i) for i in range(1000, 1500)]\n",
        "for fname in fnames:\n",
        "  src = os.path.join(original_dataset_dir, fname)\n",
        "  dst = os.path.join(validation_dogs_dir, fname)\n",
        "  shutil.copyfile(src, dst)\n",
        "\n",
        "\n",
        "fnames = ['dog.{}.jpg'.format(i) for i in range(1500, 2000)]\n",
        "for fname in fnames:\n",
        "  src = os.path.join(original_dataset_dir, fname)\n",
        "  dst = os.path.join(test_dogs_dir, fname)\n",
        "  shutil.copyfile(src, dst)"
      ],
      "execution_count": null,
      "outputs": []
    },
    {
      "cell_type": "code",
      "metadata": {
        "id": "1TgfEpTKoIrW",
        "colab": {
          "base_uri": "https://localhost:8080/",
          "height": 119
        },
        "outputId": "abbd3904-b459-48b3-ef54-df5ad38dbdc0"
      },
      "source": [
        "print('total training cat images', len(os.listdir(train_cats_dir)))\n",
        "print('total training dog images', len(os.listdir(train_dogs_dir)))\n",
        "\n",
        "print('total validation cat images', len(os.listdir(validation_cats_dir)))\n",
        "print('total validation dog images', len(os.listdir(validation_dogs_dir)))\n",
        "\n",
        "print('total test cat images', len(os.listdir(test_cats_dir)))\n",
        "print('total test dog images', len(os.listdir(test_dogs_dir)))"
      ],
      "execution_count": null,
      "outputs": [
        {
          "output_type": "stream",
          "text": [
            "total training cat images 1000\n",
            "total training dog images 1000\n",
            "total validation cat images 500\n",
            "total validation dog images 500\n",
            "total test cat images 500\n",
            "total test dog images 500\n"
          ],
          "name": "stdout"
        }
      ]
    },
    {
      "cell_type": "code",
      "metadata": {
        "id": "lMT9ysrLpE_7",
        "colab": {
          "base_uri": "https://localhost:8080/",
          "height": 527
        },
        "outputId": "c163e91c-d7fa-4f8c-9f89-9e1d12bb3d13"
      },
      "source": [
        "from keras import layers\n",
        "from keras import models\n",
        "model = models.Sequential()\n",
        "model.add(layers.Conv2D(32, (3,3), activation='relu', input_shape=(150,150,3)))\n",
        "model.add(layers.MaxPooling2D((2,2)))\n",
        "model.add(layers.Conv2D(64, (3,3), activation='relu'))\n",
        "model.add(layers.MaxPooling2D((2,2)))\n",
        "model.add(layers.Conv2D(128, (3,3), activation='relu'))\n",
        "model.add(layers.MaxPooling2D((2,2)))\n",
        "model.add(layers.Conv2D(128, (3,3), activation='relu'))\n",
        "model.add(layers.MaxPooling2D((2,2)))\n",
        "model.add(layers.Flatten())\n",
        "model.add(layers.Dense(512, activation='relu'))\n",
        "model.add(layers.Dense(1, activation='sigmoid'))\n",
        "model.summary()"
      ],
      "execution_count": null,
      "outputs": [
        {
          "output_type": "stream",
          "text": [
            "Model: \"sequential_3\"\n",
            "_________________________________________________________________\n",
            "Layer (type)                 Output Shape              Param #   \n",
            "=================================================================\n",
            "conv2d_1 (Conv2D)            (None, 148, 148, 32)      896       \n",
            "_________________________________________________________________\n",
            "max_pooling2d_1 (MaxPooling2 (None, 74, 74, 32)        0         \n",
            "_________________________________________________________________\n",
            "conv2d_2 (Conv2D)            (None, 72, 72, 64)        18496     \n",
            "_________________________________________________________________\n",
            "max_pooling2d_2 (MaxPooling2 (None, 36, 36, 64)        0         \n",
            "_________________________________________________________________\n",
            "conv2d_3 (Conv2D)            (None, 34, 34, 128)       73856     \n",
            "_________________________________________________________________\n",
            "max_pooling2d_3 (MaxPooling2 (None, 17, 17, 128)       0         \n",
            "_________________________________________________________________\n",
            "conv2d_4 (Conv2D)            (None, 15, 15, 128)       147584    \n",
            "_________________________________________________________________\n",
            "max_pooling2d_4 (MaxPooling2 (None, 7, 7, 128)         0         \n",
            "_________________________________________________________________\n",
            "flatten_1 (Flatten)          (None, 6272)              0         \n",
            "_________________________________________________________________\n",
            "dense_1 (Dense)              (None, 512)               3211776   \n",
            "_________________________________________________________________\n",
            "dense_2 (Dense)              (None, 1)                 513       \n",
            "=================================================================\n",
            "Total params: 3,453,121\n",
            "Trainable params: 3,453,121\n",
            "Non-trainable params: 0\n",
            "_________________________________________________________________\n"
          ],
          "name": "stdout"
        }
      ]
    },
    {
      "cell_type": "code",
      "metadata": {
        "id": "2-OoL8ExsX9B"
      },
      "source": [
        "from keras import optimizers\n",
        "model.compile(loss='binary_crossentropy',\n",
        "              optimizer=optimizers.RMSprop(lr=1e-4),\n",
        "              metrics=['acc'])"
      ],
      "execution_count": null,
      "outputs": []
    },
    {
      "cell_type": "code",
      "metadata": {
        "id": "qkMFcjUAtFdC",
        "colab": {
          "base_uri": "https://localhost:8080/",
          "height": 51
        },
        "outputId": "ee8302bc-7679-4499-c5e6-0d7cb1c5e609"
      },
      "source": [
        "from keras.preprocessing.image import ImageDataGenerator\n",
        "\n",
        "train_datagen = ImageDataGenerator(rescale=1./255)\n",
        "test_datagen = ImageDataGenerator(rescale=1./255)\n",
        "\n",
        "train_generator = train_datagen.flow_from_directory(train_dir,\n",
        "                                                    target_size=(150,150),\n",
        "                                                    batch_size=20,\n",
        "                                                    class_mode='binary')\n",
        "\n",
        "\n",
        "validation_generator = train_datagen.flow_from_directory(validation_dir,\n",
        "                                                    target_size=(150,150),\n",
        "                                                    batch_size=20,\n",
        "                                                    class_mode='binary')"
      ],
      "execution_count": null,
      "outputs": [
        {
          "output_type": "stream",
          "text": [
            "Found 2000 images belonging to 2 classes.\n",
            "Found 1000 images belonging to 2 classes.\n"
          ],
          "name": "stdout"
        }
      ]
    },
    {
      "cell_type": "code",
      "metadata": {
        "id": "ttYTn-G5ugG6",
        "colab": {
          "base_uri": "https://localhost:8080/",
          "height": 1000
        },
        "outputId": "f25024cf-fc20-42d3-f974-6617223327f6"
      },
      "source": [
        "history = model.fit_generator(train_generator,\n",
        "                              steps_per_epoch=100,\n",
        "                              epochs=30,\n",
        "                              validation_data=validation_generator,\n",
        "                              validation_steps=10)\n",
        "\n",
        "model.save('cats_and_dogs_small_1.h5')"
      ],
      "execution_count": null,
      "outputs": [
        {
          "output_type": "stream",
          "text": [
            "Epoch 1/30\n",
            "100/100 [==============================] - 12s 122ms/step - loss: 0.6884 - acc: 0.5445 - val_loss: 0.6101 - val_acc: 0.5250\n",
            "Epoch 2/30\n",
            "100/100 [==============================] - 6s 62ms/step - loss: 0.6661 - acc: 0.5905 - val_loss: 0.7449 - val_acc: 0.5450\n",
            "Epoch 3/30\n",
            "100/100 [==============================] - 6s 62ms/step - loss: 0.6278 - acc: 0.6435 - val_loss: 0.7194 - val_acc: 0.6100\n",
            "Epoch 4/30\n",
            "100/100 [==============================] - 6s 62ms/step - loss: 0.5839 - acc: 0.6850 - val_loss: 0.7561 - val_acc: 0.6450\n",
            "Epoch 5/30\n",
            "100/100 [==============================] - 6s 62ms/step - loss: 0.5442 - acc: 0.7285 - val_loss: 0.5252 - val_acc: 0.7150\n",
            "Epoch 6/30\n",
            "100/100 [==============================] - 6s 63ms/step - loss: 0.5122 - acc: 0.7465 - val_loss: 0.5540 - val_acc: 0.7150\n",
            "Epoch 7/30\n",
            "100/100 [==============================] - 6s 64ms/step - loss: 0.4768 - acc: 0.7685 - val_loss: 0.4726 - val_acc: 0.7100\n",
            "Epoch 8/30\n",
            "100/100 [==============================] - 6s 63ms/step - loss: 0.4474 - acc: 0.7935 - val_loss: 0.4153 - val_acc: 0.6550\n",
            "Epoch 9/30\n",
            "100/100 [==============================] - 6s 62ms/step - loss: 0.4272 - acc: 0.7995 - val_loss: 0.7331 - val_acc: 0.6700\n",
            "Epoch 10/30\n",
            "100/100 [==============================] - 6s 62ms/step - loss: 0.4056 - acc: 0.8225 - val_loss: 0.5965 - val_acc: 0.7400\n",
            "Epoch 11/30\n",
            "100/100 [==============================] - 6s 63ms/step - loss: 0.3704 - acc: 0.8325 - val_loss: 0.7332 - val_acc: 0.6850\n",
            "Epoch 12/30\n",
            "100/100 [==============================] - 6s 63ms/step - loss: 0.3550 - acc: 0.8470 - val_loss: 0.7629 - val_acc: 0.7150\n",
            "Epoch 13/30\n",
            "100/100 [==============================] - 6s 63ms/step - loss: 0.3281 - acc: 0.8635 - val_loss: 0.4829 - val_acc: 0.7100\n",
            "Epoch 14/30\n",
            "100/100 [==============================] - 6s 63ms/step - loss: 0.3079 - acc: 0.8665 - val_loss: 0.9953 - val_acc: 0.7300\n",
            "Epoch 15/30\n",
            "100/100 [==============================] - 6s 63ms/step - loss: 0.2841 - acc: 0.8845 - val_loss: 0.4822 - val_acc: 0.7450\n",
            "Epoch 16/30\n",
            "100/100 [==============================] - 6s 63ms/step - loss: 0.2603 - acc: 0.8935 - val_loss: 0.5758 - val_acc: 0.7350\n",
            "Epoch 17/30\n",
            "100/100 [==============================] - 6s 63ms/step - loss: 0.2412 - acc: 0.9070 - val_loss: 0.9246 - val_acc: 0.7200\n",
            "Epoch 18/30\n",
            "100/100 [==============================] - 6s 62ms/step - loss: 0.2151 - acc: 0.9125 - val_loss: 0.4827 - val_acc: 0.7400\n",
            "Epoch 19/30\n",
            "100/100 [==============================] - 6s 63ms/step - loss: 0.2075 - acc: 0.9190 - val_loss: 0.6460 - val_acc: 0.7300\n",
            "Epoch 20/30\n",
            "100/100 [==============================] - 6s 63ms/step - loss: 0.1776 - acc: 0.9365 - val_loss: 0.5749 - val_acc: 0.7250\n",
            "Epoch 21/30\n",
            "100/100 [==============================] - 6s 63ms/step - loss: 0.1677 - acc: 0.9415 - val_loss: 1.1252 - val_acc: 0.7400\n",
            "Epoch 22/30\n",
            "100/100 [==============================] - 6s 63ms/step - loss: 0.1408 - acc: 0.9555 - val_loss: 0.5600 - val_acc: 0.7050\n",
            "Epoch 23/30\n",
            "100/100 [==============================] - 6s 63ms/step - loss: 0.1209 - acc: 0.9620 - val_loss: 0.5917 - val_acc: 0.7400\n",
            "Epoch 24/30\n",
            "100/100 [==============================] - 6s 63ms/step - loss: 0.1102 - acc: 0.9670 - val_loss: 0.5832 - val_acc: 0.7650\n",
            "Epoch 25/30\n",
            "100/100 [==============================] - 6s 62ms/step - loss: 0.0936 - acc: 0.9700 - val_loss: 0.9069 - val_acc: 0.7400\n",
            "Epoch 26/30\n",
            "100/100 [==============================] - 6s 64ms/step - loss: 0.0849 - acc: 0.9760 - val_loss: 0.5065 - val_acc: 0.7500\n",
            "Epoch 27/30\n",
            "100/100 [==============================] - 6s 63ms/step - loss: 0.0731 - acc: 0.9800 - val_loss: 1.4045 - val_acc: 0.6850\n",
            "Epoch 28/30\n",
            "100/100 [==============================] - 6s 62ms/step - loss: 0.0690 - acc: 0.9795 - val_loss: 1.3331 - val_acc: 0.7400\n",
            "Epoch 29/30\n",
            "100/100 [==============================] - 6s 63ms/step - loss: 0.0542 - acc: 0.9845 - val_loss: 0.8255 - val_acc: 0.7650\n",
            "Epoch 30/30\n",
            "100/100 [==============================] - 6s 62ms/step - loss: 0.0428 - acc: 0.9890 - val_loss: 1.5696 - val_acc: 0.7400\n"
          ],
          "name": "stdout"
        }
      ]
    },
    {
      "cell_type": "markdown",
      "metadata": {
        "id": "rWpw_ERox9Vb"
      },
      "source": [
        "below plot shows training is getting better but validation is not doing so well. it is a case of overfitting."
      ]
    },
    {
      "cell_type": "code",
      "metadata": {
        "id": "THdA_YPjv-0E",
        "colab": {
          "base_uri": "https://localhost:8080/",
          "height": 545
        },
        "outputId": "0be749fb-9cbf-470f-f1b6-fcdb82593b20"
      },
      "source": [
        "import matplotlib.pyplot as plt\n",
        "\n",
        "acc = history.history['acc']\n",
        "val_acc = history.history['val_acc']\n",
        "loss = history.history['loss']\n",
        "val_loss = history.history['val_loss']\n",
        "\n",
        "epochs = range(1, len(acc) + 1)\n",
        "\n",
        "plt.plot(epochs, acc, 'bo', label='Training acc')\n",
        "plt.plot(epochs, val_acc, 'b', label='Validation acc')\n",
        "plt.title('Training and Validation accuracy')\n",
        "plt.legend()\n",
        "\n",
        "plt.figure()\n",
        "\n",
        "plt.plot(epochs, loss, 'bo', label='Training loss')\n",
        "plt.plot(epochs, val_acc, 'b', label='Validation loss')\n",
        "plt.title('Training and Validation loss')\n",
        "plt.legend()\n",
        "\n",
        "plt.show()"
      ],
      "execution_count": null,
      "outputs": [
        {
          "output_type": "display_data",
          "data": {
            "image/png": "[encoded data removed]",
            "text/plain": [
              "<Figure size 432x288 with 1 Axes>"
            ]
          },
          "metadata": {
            "tags": [],
            "needs_background": "light"
          }
        },
        {
          "output_type": "display_data",
          "data": {
            "image/png": "[encoded data removed]",
            "text/plain": [
              "<Figure size 432x288 with 1 Axes>"
            ]
          },
          "metadata": {
            "tags": [],
            "needs_background": "light"
          }
        }
      ]
    },
    {
      "cell_type": "markdown",
      "metadata": {
        "id": "1lNpnsDbyaP4"
      },
      "source": [
        "we therefore add dropout"
      ]
    },
    {
      "cell_type": "code",
      "metadata": {
        "id": "Van6WUX1ylRW",
        "colab": {
          "base_uri": "https://localhost:8080/",
          "height": 561
        },
        "outputId": "c4457626-11b9-43bd-d7e4-0a193bd6bd2d"
      },
      "source": [
        "from keras import layers\n",
        "from keras import models\n",
        "model = models.Sequential()\n",
        "model.add(layers.Conv2D(32, (3,3), activation='relu', input_shape=(150,150,3)))\n",
        "model.add(layers.MaxPooling2D((2,2)))\n",
        "model.add(layers.Conv2D(64, (3,3), activation='relu'))\n",
        "model.add(layers.MaxPooling2D((2,2)))\n",
        "model.add(layers.Conv2D(128, (3,3), activation='relu'))\n",
        "model.add(layers.MaxPooling2D((2,2)))\n",
        "model.add(layers.Conv2D(128, (3,3), activation='relu'))\n",
        "model.add(layers.MaxPooling2D((2,2)))\n",
        "model.add(layers.Flatten())\n",
        "model.add(layers.Dropout(0.5))\n",
        "model.add(layers.Dense(512, activation='relu'))\n",
        "model.add(layers.Dense(1, activation='sigmoid'))\n",
        "model.summary()"
      ],
      "execution_count": null,
      "outputs": [
        {
          "output_type": "stream",
          "text": [
            "Model: \"sequential_4\"\n",
            "_________________________________________________________________\n",
            "Layer (type)                 Output Shape              Param #   \n",
            "=================================================================\n",
            "conv2d_5 (Conv2D)            (None, 148, 148, 32)      896       \n",
            "_________________________________________________________________\n",
            "max_pooling2d_5 (MaxPooling2 (None, 74, 74, 32)        0         \n",
            "_________________________________________________________________\n",
            "conv2d_6 (Conv2D)            (None, 72, 72, 64)        18496     \n",
            "_________________________________________________________________\n",
            "max_pooling2d_6 (MaxPooling2 (None, 36, 36, 64)        0         \n",
            "_________________________________________________________________\n",
            "conv2d_7 (Conv2D)            (None, 34, 34, 128)       73856     \n",
            "_________________________________________________________________\n",
            "max_pooling2d_7 (MaxPooling2 (None, 17, 17, 128)       0         \n",
            "_________________________________________________________________\n",
            "conv2d_8 (Conv2D)            (None, 15, 15, 128)       147584    \n",
            "_________________________________________________________________\n",
            "max_pooling2d_8 (MaxPooling2 (None, 7, 7, 128)         0         \n",
            "_________________________________________________________________\n",
            "flatten_2 (Flatten)          (None, 6272)              0         \n",
            "_________________________________________________________________\n",
            "dropout_1 (Dropout)          (None, 6272)              0         \n",
            "_________________________________________________________________\n",
            "dense_3 (Dense)              (None, 512)               3211776   \n",
            "_________________________________________________________________\n",
            "dense_4 (Dense)              (None, 1)                 513       \n",
            "=================================================================\n",
            "Total params: 3,453,121\n",
            "Trainable params: 3,453,121\n",
            "Non-trainable params: 0\n",
            "_________________________________________________________________\n"
          ],
          "name": "stdout"
        }
      ]
    },
    {
      "cell_type": "code",
      "metadata": {
        "id": "INDk3pvtzRCT"
      },
      "source": [
        "from keras import optimizers\n",
        "model.compile(loss='binary_crossentropy',\n",
        "              optimizer=optimizers.RMSprop(lr=1e-4),\n",
        "              metrics=['acc'])"
      ],
      "execution_count": null,
      "outputs": []
    },
    {
      "cell_type": "markdown",
      "metadata": {
        "id": "EaMOKRkK0Usg"
      },
      "source": [
        "Doing data augmentation with training data"
      ]
    },
    {
      "cell_type": "code",
      "metadata": {
        "id": "FuRhQ7P2zqkg",
        "colab": {
          "base_uri": "https://localhost:8080/",
          "height": 51
        },
        "outputId": "04c8f6aa-2576-4bbf-d95b-dd05a8b19348"
      },
      "source": [
        "train_datagen = ImageDataGenerator(rescale=1./255,\n",
        "                                   rotation_range=40,\n",
        "                                   width_shift_range=0.2,\n",
        "                                   height_shift_range=0.2,\n",
        "                                   shear_range=0.2,\n",
        "                                   horizontal_flip=True)\n",
        "\n",
        "\n",
        "train_generator = train_datagen.flow_from_directory(train_dir,\n",
        "                                                    target_size=(150,150),\n",
        "                                                    batch_size=20,\n",
        "                                                    class_mode='binary')\n",
        "\n",
        "\n",
        "validation_generator = train_datagen.flow_from_directory(validation_dir,\n",
        "                                                    target_size=(150,150),\n",
        "                                                    batch_size=20,\n",
        "                                                    class_mode='binary')"
      ],
      "execution_count": null,
      "outputs": [
        {
          "output_type": "stream",
          "text": [
            "Found 2000 images belonging to 2 classes.\n",
            "Found 1000 images belonging to 2 classes.\n"
          ],
          "name": "stdout"
        }
      ]
    },
    {
      "cell_type": "markdown",
      "metadata": {
        "id": "q88KrzPI1IJL"
      },
      "source": [
        "saving model after removing overfitting and augmenting data, we decrease no.of epochs to 20 and increase validation steps to 50"
      ]
    },
    {
      "cell_type": "code",
      "metadata": {
        "id": "7o8Bv0jc0230",
        "colab": {
          "base_uri": "https://localhost:8080/",
          "height": 717
        },
        "outputId": "f00c1db0-849f-4521-8c6c-7fa1f6d49434"
      },
      "source": [
        "history = model.fit_generator(train_generator,\n",
        "                              steps_per_epoch=100,\n",
        "                              epochs=20,\n",
        "                              validation_data=validation_generator,\n",
        "                              validation_steps=50)\n",
        "\n",
        "model.save('cats_and_dogs_small_1.h5')"
      ],
      "execution_count": null,
      "outputs": [
        {
          "output_type": "stream",
          "text": [
            "Epoch 1/20\n",
            "100/100 [==============================] - 22s 215ms/step - loss: 0.6954 - acc: 0.4915 - val_loss: 0.6951 - val_acc: 0.5500\n",
            "Epoch 2/20\n",
            "100/100 [==============================] - 20s 199ms/step - loss: 0.6900 - acc: 0.5395 - val_loss: 0.6734 - val_acc: 0.6130\n",
            "Epoch 3/20\n",
            "100/100 [==============================] - 20s 198ms/step - loss: 0.6773 - acc: 0.5810 - val_loss: 0.7488 - val_acc: 0.5560\n",
            "Epoch 4/20\n",
            "100/100 [==============================] - 20s 199ms/step - loss: 0.6613 - acc: 0.5965 - val_loss: 0.6398 - val_acc: 0.5900\n",
            "Epoch 5/20\n",
            "100/100 [==============================] - 20s 199ms/step - loss: 0.6539 - acc: 0.6195 - val_loss: 0.5929 - val_acc: 0.6490\n",
            "Epoch 6/20\n",
            "100/100 [==============================] - 20s 199ms/step - loss: 0.6454 - acc: 0.6280 - val_loss: 0.7201 - val_acc: 0.6050\n",
            "Epoch 7/20\n",
            "100/100 [==============================] - 20s 198ms/step - loss: 0.6287 - acc: 0.6345 - val_loss: 0.6359 - val_acc: 0.6590\n",
            "Epoch 8/20\n",
            "100/100 [==============================] - 20s 202ms/step - loss: 0.6249 - acc: 0.6525 - val_loss: 0.6184 - val_acc: 0.6530\n",
            "Epoch 9/20\n",
            "100/100 [==============================] - 20s 203ms/step - loss: 0.6205 - acc: 0.6555 - val_loss: 0.5531 - val_acc: 0.6870\n",
            "Epoch 10/20\n",
            "100/100 [==============================] - 20s 203ms/step - loss: 0.6036 - acc: 0.6760 - val_loss: 0.4009 - val_acc: 0.6680\n",
            "Epoch 11/20\n",
            "100/100 [==============================] - 20s 201ms/step - loss: 0.5935 - acc: 0.6830 - val_loss: 0.5687 - val_acc: 0.6890\n",
            "Epoch 12/20\n",
            "100/100 [==============================] - 20s 198ms/step - loss: 0.5912 - acc: 0.6935 - val_loss: 0.5767 - val_acc: 0.7040\n",
            "Epoch 13/20\n",
            "100/100 [==============================] - 20s 199ms/step - loss: 0.5802 - acc: 0.6945 - val_loss: 0.4433 - val_acc: 0.6930\n",
            "Epoch 14/20\n",
            "100/100 [==============================] - 20s 199ms/step - loss: 0.5780 - acc: 0.7065 - val_loss: 0.6679 - val_acc: 0.6910\n",
            "Epoch 15/20\n",
            "100/100 [==============================] - 20s 198ms/step - loss: 0.5626 - acc: 0.7145 - val_loss: 0.5093 - val_acc: 0.6950\n",
            "Epoch 16/20\n",
            "100/100 [==============================] - 20s 200ms/step - loss: 0.5678 - acc: 0.7040 - val_loss: 0.5845 - val_acc: 0.6940\n",
            "Epoch 17/20\n",
            "100/100 [==============================] - 20s 199ms/step - loss: 0.5656 - acc: 0.7030 - val_loss: 0.3298 - val_acc: 0.7080\n",
            "Epoch 18/20\n",
            "100/100 [==============================] - 20s 200ms/step - loss: 0.5499 - acc: 0.7200 - val_loss: 0.4206 - val_acc: 0.7260\n",
            "Epoch 19/20\n",
            "100/100 [==============================] - 20s 198ms/step - loss: 0.5566 - acc: 0.7135 - val_loss: 0.5194 - val_acc: 0.6730\n",
            "Epoch 20/20\n",
            "100/100 [==============================] - 20s 199ms/step - loss: 0.5382 - acc: 0.7270 - val_loss: 0.3867 - val_acc: 0.7260\n"
          ],
          "name": "stdout"
        }
      ]
    },
    {
      "cell_type": "markdown",
      "metadata": {
        "id": "aivRm9rw3gma"
      },
      "source": [
        "Now below plot shows that our training and validation accuracy are both increasing and validation loss is decreasing compared to previous validation loss curve\n"
      ]
    },
    {
      "cell_type": "code",
      "metadata": {
        "id": "LrAw6L0o2r9n",
        "colab": {
          "base_uri": "https://localhost:8080/",
          "height": 545
        },
        "outputId": "cde75304-8a7a-488e-edd1-f2b09c27862b"
      },
      "source": [
        "\n",
        "acc = history.history['acc']\n",
        "val_acc = history.history['val_acc']\n",
        "loss = history.history['loss']\n",
        "val_loss = history.history['val_loss']\n",
        "\n",
        "epochs = range(1, len(acc) + 1)\n",
        "\n",
        "plt.plot(epochs, acc, 'bo', label='Training acc')\n",
        "plt.plot(epochs, val_acc, 'b', label='Validation acc')\n",
        "plt.title('Training and Validation accuracy')\n",
        "plt.legend()\n",
        "\n",
        "plt.figure()\n",
        "\n",
        "plt.plot(epochs, loss, 'bo', label='Training loss')\n",
        "plt.plot(epochs, val_acc, 'b', label='Validation loss')\n",
        "plt.title('Training and Validation loss')\n",
        "plt.legend()\n",
        "\n",
        "plt.show()"
      ],
      "execution_count": null,
      "outputs": [
        {
          "output_type": "display_data",
          "data": {
            "image/png": "[encoded data removed]",
            "text/plain": [
              "<Figure size 432x288 with 1 Axes>"
            ]
          },
          "metadata": {
            "tags": [],
            "needs_background": "light"
          }
        },
        {
          "output_type": "display_data",
          "data": {
            "image/png": "[encoded data removed]",
            "text/plain": [
              "<Figure size 432x288 with 1 Axes>"
            ]
          },
          "metadata": {
            "tags": [],
            "needs_background": "light"
          }
        }
      ]
    }
  ]
}